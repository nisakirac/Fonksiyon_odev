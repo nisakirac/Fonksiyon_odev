{
 "cells": [
  {
   "cell_type": "markdown",
   "metadata": {},
   "source": [
    "#### Ödev 1\n",
    "Kullanıcıdan pi değeri ve yarıçap bilgisi alarak dairenin alanını hesaplayan bir fonksiyon oluşturulur."
   ]
  },
  {
   "cell_type": "code",
   "execution_count": 5,
   "metadata": {
    "vscode": {
     "languageId": "plaintext"
    }
   },
   "outputs": [
    {
     "name": "stdin",
     "output_type": "stream",
     "text": [
      "Pi değerini giriniz (örn: 3.14):  3.14\n",
      "Yarıçapı giriniz:  4\n"
     ]
    },
    {
     "name": "stdout",
     "output_type": "stream",
     "text": [
      "Dairenin alanı: 50.24\n"
     ]
    }
   ],
   "source": [
    "def daire_alani_hesapla():\n",
    "    try:\n",
    "        # Kullanıcıdan pi değerini ve yarıçapı al\n",
    "        pi = float(input(\"Pi değerini giriniz (örn: 3.14): \"))\n",
    "        yaricap = float(input(\"Yarıçapı giriniz: \"))\n",
    "        \n",
    "        # Alanı hesapla\n",
    "        alan = pi * (yaricap ** 2)\n",
    "        \n",
    "        # Sonucu ekrana yazdır\n",
    "        print(f\"Dairenin alanı: {alan:.2f}\")\n",
    "    except ValueError:\n",
    "        print(\"Lütfen geçerli bir sayı giriniz.\")\n",
    "\n",
    "# Fonksiyonu çağır\n",
    "daire_alani_hesapla()\n"
   ]
  },
  {
   "cell_type": "markdown",
   "metadata": {},
   "source": [
    "#### Ödev 2\n",
    "\n",
    "Faktöriyel adında fonksiyon oluşturulur. Döngü kullanarak parametre olarak girilen sayının faktöriyeli hesaplanır. Format metodunu kullanılarak ekrana yazdırılır."
   ]
  },
  {
   "cell_type": "code",
   "execution_count": 7,
   "metadata": {
    "vscode": {
     "languageId": "plaintext"
    }
   },
   "outputs": [
    {
     "name": "stdin",
     "output_type": "stream",
     "text": [
      "Bir sayı giriniz:  6\n"
     ]
    },
    {
     "name": "stdout",
     "output_type": "stream",
     "text": [
      "Girilen sayının faktöriyeli: 720\n"
     ]
    }
   ],
   "source": [
    "def faktoriyel(sayi):\n",
    "    # Faktöriyel hesaplama\n",
    "    sonuc = 1\n",
    "    for i in range(1, sayi + 1):\n",
    "        sonuc *= i\n",
    "    \n",
    "    # Sonucu ekrana yazdırma\n",
    "    print(\"Girilen sayının faktöriyeli: {}\".format(sonuc))\n",
    "\n",
    "# Kullanıcıdan giriş alma ve fonksiyonu çağırma\n",
    "try:\n",
    "    sayi = int(input(\"Bir sayı giriniz: \"))\n",
    "    if sayi < 0:\n",
    "        print(\"Negatif sayıların faktöriyeli hesaplanamaz.\")\n",
    "    else:\n",
    "        faktoriyel(sayi)\n",
    "except ValueError:\n",
    "    print(\"Lütfen geçerli bir tam sayı giriniz.\")\n"
   ]
  },
  {
   "cell_type": "markdown",
   "metadata": {},
   "source": [
    "#### Ödev 3\n",
    "Kişinin fonksiyona doğum yılını vererek kaç yaşında olduğunu hesaplayan bir fonksiyon oluşturun. "
   ]
  },
  {
   "cell_type": "code",
   "execution_count": 17,
   "metadata": {
    "vscode": {
     "languageId": "plaintext"
    }
   },
   "outputs": [
    {
     "name": "stdout",
     "output_type": "stream",
     "text": [
      "Kişi şu anda 24 yaşındadır.\n"
     ]
    }
   ],
   "source": [
    "from datetime import datetime\n",
    "\n",
    "def yas_hesapla(dogum_yili):\n",
    "    try:\n",
    "        # Şu anki yılı al\n",
    "        mevcut_yil = datetime.now().year\n",
    "        \n",
    "        # Yaşı hesapla\n",
    "        yas = mevcut_yil - dogum_yili\n",
    "        \n",
    "        # Negatif yaş kontrolü\n",
    "        if yas < 0:\n",
    "            print(\"Geçersiz bir doğum yılı girdiniz.\")\n",
    "        else:\n",
    "            # Sonucu yazdır\n",
    "            print(\"Kişi şu anda {} yaşındadır.\".format(yas))\n",
    "    except ValueError:\n",
    "        print(\"Geçerli bir doğum yılı giriniz.\")\n",
    "\n",
    "\n",
    "yas_hesapla(2000)"
   ]
  },
  {
   "cell_type": "markdown",
   "metadata": {},
   "source": [
    "#### Ödev 4\n",
    "\n",
    "Doğum yılı ve isim bilgisi verilen fonksiyon kişinin emekli olup olmadığını söylesin.(Kişi 65 yaşında ise emekli olur.) Burada yaş hesabını yukarıdaki örnekteki fonksiyonu kullanarak yapsın.(Yani fonksiyon içinde fonksiyon kullanmanızı istiyorum :)) Kişi 65 yaşında ya da daha fazlaysa \"Emekli oldunuz\" yanıtını, 65 yaşından küçükse emekliliğine kaç yıl kaldığını da hesaplayarak \"(isim) emekliliğine (yıl) kaldı.\" yanıtını versin."
   ]
  },
  {
   "cell_type": "code",
   "execution_count": 38,
   "metadata": {
    "vscode": {
     "languageId": "plaintext"
    }
   },
   "outputs": [
    {
     "ename": "IndentationError",
     "evalue": "unindent does not match any outer indentation level (<string>, line 34)",
     "output_type": "error",
     "traceback": [
      "\u001b[1;36m  File \u001b[1;32m<string>:34\u001b[1;36m\u001b[0m\n\u001b[1;33m    emekli_oldunuz_mu(2000, \"nisa\")\u001b[0m\n\u001b[1;37m                                   ^\u001b[0m\n\u001b[1;31mIndentationError\u001b[0m\u001b[1;31m:\u001b[0m unindent does not match any outer indentation level\n"
     ]
    }
   ],
   "source": [
    "from datetime import datetime\n",
    "\n",
    "def yas_hesapla(dogum_yili):\n",
    "    try:\n",
    "        # Şu anki yılı al\n",
    "        mevcut_yil = datetime.now().year\n",
    "        \n",
    "        # Yaşı hesapla\n",
    "        yas = mevcut_yil - dogum_yili\n",
    "        \n",
    "        # Negatif yaş kontrolü\n",
    "        if yas < 0:\n",
    "            print(\"Geçersiz bir doğum yılı girdiniz.\")\n",
    "        else:\n",
    "            # Sonucu yazdır\n",
    "            print(\"Kişi şu anda {} yaşındadır.\".format(yas))\n",
    "    except ValueError:\n",
    "        print(\"Geçerli bir doğum yılı giriniz.\")\n",
    "\n",
    "\n",
    "def emekli_oldunuz_mu(dogum_yili,isim):\n",
    "    try:\n",
    "        yas=yas_hesapla(dogum_yili)\n",
    "        if yas>=65:\n",
    "            print(\"Sayın {} Hanım  yaşınız {} emekli oldunuz\".format(isim,yas))\n",
    "        else:\n",
    "            emekli_yas=65-yas\n",
    "            print(\"Sayın {} Hanım  yaşınız {} emekli olduğundan emeklilik yılınıza {} yıl kalmıştır \".format(isim,yas,emekli_yas))\n",
    "    except Exception as e:\n",
    "          print(f\"Bir hata oluştu: {e}\")     \n",
    "        \n",
    "        \n",
    "  \n",
    "  emekli_oldunuz_mu(2000, \"nisa\")"
   ]
  },
  {
   "cell_type": "code",
   "execution_count": null,
   "metadata": {},
   "outputs": [],
   "source": []
  }
 ],
 "metadata": {
  "kernelspec": {
   "display_name": "Python [conda env:base] *",
   "language": "python",
   "name": "conda-base-py"
  },
  "language_info": {
   "codemirror_mode": {
    "name": "ipython",
    "version": 3
   },
   "file_extension": ".py",
   "mimetype": "text/x-python",
   "name": "python",
   "nbconvert_exporter": "python",
   "pygments_lexer": "ipython3",
   "version": "3.12.7"
  }
 },
 "nbformat": 4,
 "nbformat_minor": 4
}
